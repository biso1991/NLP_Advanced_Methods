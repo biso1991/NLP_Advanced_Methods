{
 "cells": [
  {
   "cell_type": "markdown",
   "metadata": {},
   "source": [
    "# the use of WordNet, a lexical database of the English language, for finding synonyms, antonyms, and computing similarity between words."
   ]
  },
  {
   "cell_type": "code",
   "execution_count": 2,
   "metadata": {},
   "outputs": [
    {
     "data": {
      "text/plain": [
       "[Synset('plan.n.01'),\n",
       " Synset('program.n.02'),\n",
       " Synset('broadcast.n.02'),\n",
       " Synset('platform.n.02'),\n",
       " Synset('program.n.05'),\n",
       " Synset('course_of_study.n.01'),\n",
       " Synset('program.n.07'),\n",
       " Synset('program.n.08'),\n",
       " Synset('program.v.01'),\n",
       " Synset('program.v.02')]"
      ]
     },
     "execution_count": 2,
     "metadata": {},
     "output_type": "execute_result"
    }
   ],
   "source": [
    "from nltk.corpus import wordnet\n",
    "syn = wordnet.synsets(\"program\")\n",
    "syn\n"
   ]
  },
  {
   "cell_type": "code",
   "execution_count": 3,
   "metadata": {},
   "outputs": [
    {
     "data": {
      "text/plain": [
       "Synset('plan.n.01')"
      ]
     },
     "execution_count": 3,
     "metadata": {},
     "output_type": "execute_result"
    }
   ],
   "source": [
    "syns[0]"
   ]
  },
  {
   "cell_type": "code",
   "execution_count": 4,
   "metadata": {},
   "outputs": [
    {
     "data": {
      "text/plain": [
       "'plan.n.01'"
      ]
     },
     "execution_count": 4,
     "metadata": {},
     "output_type": "execute_result"
    }
   ],
   "source": [
    "syns[0].name()"
   ]
  },
  {
   "cell_type": "code",
   "execution_count": 5,
   "metadata": {},
   "outputs": [
    {
     "data": {
      "text/plain": [
       "'plan'"
      ]
     },
     "execution_count": 5,
     "metadata": {},
     "output_type": "execute_result"
    }
   ],
   "source": [
    "syns[0].lemmas()[0].name()"
   ]
  },
  {
   "cell_type": "code",
   "execution_count": 6,
   "metadata": {},
   "outputs": [
    {
     "name": "stdout",
     "output_type": "stream",
     "text": [
      "a series of steps to be carried out or goals to be accomplished\n"
     ]
    }
   ],
   "source": [
    "print(syns[0].definition())"
   ]
  },
  {
   "cell_type": "code",
   "execution_count": 7,
   "metadata": {},
   "outputs": [
    {
     "name": "stdout",
     "output_type": "stream",
     "text": [
      "['they drew up a six-step plan', 'they discussed plans for a new bond issue']\n"
     ]
    }
   ],
   "source": [
    "print(syns[0].examples())"
   ]
  },
  {
   "cell_type": "code",
   "execution_count": null,
   "metadata": {},
   "outputs": [],
   "source": []
  },
  {
   "cell_type": "code",
   "execution_count": 8,
   "metadata": {},
   "outputs": [
    {
     "data": {
      "text/plain": [
       "[Synset('dog.n.01'),\n",
       " Synset('frump.n.01'),\n",
       " Synset('dog.n.03'),\n",
       " Synset('cad.n.01'),\n",
       " Synset('frank.n.02'),\n",
       " Synset('pawl.n.01'),\n",
       " Synset('andiron.n.01'),\n",
       " Synset('chase.v.01')]"
      ]
     },
     "execution_count": 8,
     "metadata": {},
     "output_type": "execute_result"
    }
   ],
   "source": [
    "from nltk.corpus import wordnet as wn\n",
    "wn.synsets('dog')\n"
   ]
  },
  {
   "cell_type": "code",
   "execution_count": 9,
   "metadata": {},
   "outputs": [
    {
     "name": "stdout",
     "output_type": "stream",
     "text": [
      "Synset('dog.n.01')\n",
      "a member of the genus Canis (probably descended from the common wolf) that has been domesticated by man since prehistoric times; occurs in many breeds\n",
      "------------------------------\n",
      "Synset('frump.n.01')\n",
      "a dull unattractive unpleasant girl or woman\n",
      "------------------------------\n",
      "Synset('dog.n.03')\n",
      "informal term for a man\n",
      "------------------------------\n",
      "Synset('cad.n.01')\n",
      "someone who is morally reprehensible\n",
      "------------------------------\n",
      "Synset('frank.n.02')\n",
      "a smooth-textured sausage of minced beef or pork usually smoked; often served on a bread roll\n",
      "------------------------------\n",
      "Synset('pawl.n.01')\n",
      "a hinged catch that fits into a notch of a ratchet to move a wheel forward or prevent it from moving backward\n",
      "------------------------------\n",
      "Synset('andiron.n.01')\n",
      "metal supports for logs in a fireplace\n",
      "------------------------------\n",
      "Synset('chase.v.01')\n",
      "go after with the intent to catch\n",
      "------------------------------\n"
     ]
    }
   ],
   "source": [
    "for i in range(len(wn.synsets('dog'))) : \n",
    "    print(wn.synsets('dog')[i])\n",
    "    print(wn.synsets('dog')[i].definition())\n",
    "    print('------------------------------')"
   ]
  },
  {
   "cell_type": "code",
   "execution_count": 10,
   "metadata": {},
   "outputs": [
    {
     "data": {
      "text/plain": [
       "[Synset('school.n.01'),\n",
       " Synset('school.n.02'),\n",
       " Synset('school.n.03'),\n",
       " Synset('school.n.04'),\n",
       " Synset('school.n.05'),\n",
       " Synset('school.n.06'),\n",
       " Synset('school.n.07'),\n",
       " Synset('school.v.01'),\n",
       " Synset('educate.v.03'),\n",
       " Synset('school.v.03')]"
      ]
     },
     "execution_count": 10,
     "metadata": {},
     "output_type": "execute_result"
    }
   ],
   "source": [
    "wn.synsets('school')"
   ]
  },
  {
   "cell_type": "code",
   "execution_count": 11,
   "metadata": {},
   "outputs": [
    {
     "data": {
      "text/plain": [
       "[Synset('like.n.01'),\n",
       " Synset('like.n.02'),\n",
       " Synset('wish.v.02'),\n",
       " Synset('like.v.02'),\n",
       " Synset('like.v.03'),\n",
       " Synset('like.v.04'),\n",
       " Synset('like.v.05'),\n",
       " Synset('like.a.01'),\n",
       " Synset('like.a.02'),\n",
       " Synset('alike.a.01'),\n",
       " Synset('comparable.s.02')]"
      ]
     },
     "execution_count": 11,
     "metadata": {},
     "output_type": "execute_result"
    }
   ],
   "source": [
    "wn.synsets('like')"
   ]
  },
  {
   "cell_type": "code",
   "execution_count": 12,
   "metadata": {},
   "outputs": [
    {
     "data": {
      "text/plain": [
       "'metal supports for logs in a fireplace'"
      ]
     },
     "execution_count": 12,
     "metadata": {},
     "output_type": "execute_result"
    }
   ],
   "source": [
    "wn.synset('andiron.n.01').definition()"
   ]
  },
  {
   "cell_type": "code",
   "execution_count": 17,
   "metadata": {
    "scrolled": true
   },
   "outputs": [
    {
     "name": "stdout",
     "output_type": "stream",
     "text": [
      "definition : a republic in northwestern Africa on the Mediterranean coast; achieved independence from France in 1956\n",
      "-----------------\n",
      "examples : ['southern Tunisia is mostly desert']\n",
      "=========================================\n"
     ]
    }
   ],
   "source": [
    "# word = 'cat'\n",
    "word = 'tunisia'\n",
    "# word = 'john'\n",
    "# word = 'hitler'\n",
    "# word = 'earth'\n",
    "\n",
    "for i in wn.synsets(word) : \n",
    "    print(f'definition : {i.definition()}')\n",
    "    print('-----------------')\n",
    "    print(f'examples : {i.examples()}')\n",
    "    print('=========================================')"
   ]
  },
  {
   "cell_type": "code",
   "execution_count": 20,
   "metadata": {},
   "outputs": [
    {
     "name": "stdout",
     "output_type": "stream",
     "text": [
      "{'goodbye', 'adieu', 'adios', 'goodby', 'good-bye', 'au_revoir', 'bye', 'auf_wiedersehen', 'bye-bye', 'arrivederci', 'sayonara', 'so_long', 'good_day', 'good-by', 'cheerio'}\n",
      "------------------------------------\n",
      "set()\n"
     ]
    }
   ],
   "source": [
    "synonyms = []\n",
    "antonyms = []\n",
    "\n",
    "for syn in wordnet.synsets(\"goodbye\"):\n",
    "    for l in syn.lemmas():\n",
    "        synonyms.append(l.name())\n",
    "        if l.antonyms():\n",
    "            antonyms.append(l.antonyms()[0].name())\n",
    "\n",
    "print(set(synonyms))\n",
    "print('------------------------------------')\n",
    "print(set(antonyms))"
   ]
  },
  {
   "cell_type": "code",
   "execution_count": null,
   "metadata": {},
   "outputs": [],
   "source": []
  },
  {
   "cell_type": "code",
   "execution_count": 21,
   "metadata": {},
   "outputs": [
    {
     "name": "stdout",
     "output_type": "stream",
     "text": [
      "word : I\n",
      "\n",
      "synonyms : {'I', 'unity', 'ace', 'single', 'iodin', 'one', 'iodine', '1', 'ane', 'i', 'atomic_number_53'}\n",
      "===========================================\n",
      "word : need\n",
      "\n",
      "synonyms : {'demand', 'pauperism', 'pauperization', 'need', 'indigence', 'call_for', 'ask', 'motive', 'motivation', 'penury', 'take', 'involve', 'want', 'require', 'necessitate', 'postulate'}\n",
      "===========================================\n",
      "word : to\n",
      "===========================================\n",
      "word : go\n",
      "\n",
      "synonyms : {'hold_out', 'perish', 'tour', 'work', 'run_low', 'die', 'lead', 'go_away', 'get', 'belong', 'plump', 'cristal', 'croak', 'operate', 'offer', 'choke', 'start', 'give_out', 'buy_the_farm', 'survive', 'pop_off', 'crack', 'live_on', 'get_going', 'X', 'sound', 'run', 'go', 'travel', 'locomote', 'decease', 'exit', 'conk', 'depart', 'go_bad', 'snuff_it', 'pass_away', 'run_short', 'kick_the_bucket', 'hold_up', \"cash_in_one's_chips\", 'disco_biscuit', 'function', 'drop_dead', 'become', 'rifle', 'ecstasy', 'expire', 'give_way', 'break_down', 'break', 'blend_in', 'Adam', 'turn', 'fit', 'proceed', 'last', 'fail', 'blend', 'pass', 'whirl', 'fling', 'XTC', 'move', 'give-up_the_ghost', 'spell', 'hug_drug', 'conk_out', 'go_game', 'extend', 'live', 'endure'}\n",
      "\n",
      "antonyms : {'stay_in_place', 'malfunction', 'be_born', 'come', 'no-go', 'stop'}\n",
      "\n",
      "===========================================\n",
      "word : right\n",
      "\n",
      "synonyms : {'proper', 'good', 'ripe', 'redress', 'mighty', 'justly', 'rectify', 'right_hand', 'right', 'right_field', 'mightily', 'flop', 'correctly', 'right_wing', 'correct', 'in_good_order', 'veracious', 'decent', 'aright', 'compensate', 'rightfield', 'decently', 'the_right_way', 'properly', 'right-hand', 'rightfulness', 'powerful', 'right_on'}\n",
      "===========================================\n",
      "word : now\n",
      "\n",
      "synonyms : {'at_present', 'forthwith', 'instantly', 'right_away', 'straight_off', 'straightaway', 'today', 'nowadays', 'directly', 'at_once', 'now', 'like_a_shot', 'immediately'}\n",
      "===========================================\n",
      "word : to\n",
      "===========================================\n",
      "word : my\n",
      "===========================================\n",
      "word : friend\n",
      "\n",
      "synonyms : {'Quaker', 'friend', 'booster', 'acquaintance', 'supporter', 'ally', 'champion', 'Friend', 'protagonist', 'admirer'}\n",
      "===========================================\n",
      "word : bilel\n",
      "===========================================\n"
     ]
    }
   ],
   "source": [
    "from nltk.tokenize import word_tokenize\n",
    "\n",
    "\n",
    "text = 'I need to go right now to my friend bilel'\n",
    "\n",
    "for word in word_tokenize(text) : \n",
    "    synonyms = []\n",
    "    antonyms = []\n",
    "    \n",
    "\n",
    "    for syn in wordnet.synsets(word):\n",
    "        for l in syn.lemmas():\n",
    "            synonyms.append(l.name())\n",
    "            if l.antonyms():\n",
    "                antonyms.append(l.antonyms()[0].name())\n",
    "\n",
    "    print(f'word : {word}')\n",
    "    if len(synonyms) >1 :print(f'\\nsynonyms : {set(synonyms)}')\n",
    "    if l.antonyms(): print(f'\\nantonyms : {set(antonyms)}\\n')\n",
    "    print('===========================================')\n",
    "    "
   ]
  },
  {
   "cell_type": "code",
   "execution_count": 22,
   "metadata": {},
   "outputs": [
    {
     "name": "stdout",
     "output_type": "stream",
     "text": [
      "Syn (france.n.01) and (paris.n.01) with similarity 0.6666666666666666\n"
     ]
    }
   ],
   "source": [
    "# word1 = 'green'\n",
    "# word2 = 'blue'\n",
    "\n",
    "# word1 = 'moon'\n",
    "# word2 = 'sun'\n",
    "\n",
    "# word1 = 'water'\n",
    "# word2 = 'air'\n",
    "\n",
    "word1 = 'france'\n",
    "word2 = 'paris'\n",
    "\n",
    "\n",
    "\n",
    "\n",
    "w1 = wordnet.synset(wordnet.synsets(word1)[0].name())\n",
    "w2 = wordnet.synset(wordnet.synsets(word2)[0].name())\n",
    "print(f'Syn ({wordnet.synsets(word1)[0].name()}) and ({wordnet.synsets(word2)[0].name()}) with similarity {w1.wup_similarity(w2)}')"
   ]
  },
  {
   "cell_type": "code",
   "execution_count": 31,
   "metadata": {},
   "outputs": [
    {
     "name": "stdout",
     "output_type": "stream",
     "text": [
      "Syn (iodine.n.01) and (iodine.n.01) with similarity 1.0\n",
      "----------------------------------------\n",
      "Syn (iodine.n.01) and (travel.v.01) with similarity None\n",
      "----------------------------------------\n",
      "Syn (iodine.n.01) and (school.n.01) with similarity 0.46153846153846156\n",
      "----------------------------------------\n",
      "Syn (iodine.n.01) and (day.n.01) with similarity 0.4\n",
      "----------------------------------------\n",
      "Syn (iodine.n.01) and (talk.n.01) with similarity 0.3333333333333333\n",
      "----------------------------------------\n",
      "Syn (iodine.n.01) and (teacher.n.01) with similarity 0.2857142857142857\n",
      "----------------------------------------\n",
      "Syn (travel.v.01) and (iodine.n.01) with similarity 0.25\n",
      "----------------------------------------\n",
      "Syn (travel.v.01) and (travel.v.01) with similarity 1.0\n",
      "----------------------------------------\n",
      "Syn (travel.v.01) and (school.n.01) with similarity 0.18181818181818182\n",
      "----------------------------------------\n",
      "Syn (travel.v.01) and (day.n.01) with similarity 0.25\n",
      "----------------------------------------\n",
      "Syn (travel.v.01) and (talk.n.01) with similarity 0.2\n",
      "----------------------------------------\n",
      "Syn (travel.v.01) and (teacher.n.01) with similarity 0.16666666666666666\n",
      "----------------------------------------\n",
      "Syn (school.n.01) and (iodine.n.01) with similarity 0.46153846153846156\n",
      "----------------------------------------\n",
      "Syn (school.n.01) and (travel.v.01) with similarity None\n",
      "----------------------------------------\n",
      "Syn (school.n.01) and (school.n.01) with similarity 1.0\n",
      "----------------------------------------\n",
      "Syn (school.n.01) and (day.n.01) with similarity 0.3076923076923077\n",
      "----------------------------------------\n",
      "Syn (school.n.01) and (talk.n.01) with similarity 0.26666666666666666\n",
      "----------------------------------------\n",
      "Syn (school.n.01) and (teacher.n.01) with similarity 0.125\n",
      "----------------------------------------\n",
      "Syn (day.n.01) and (iodine.n.01) with similarity 0.4\n",
      "----------------------------------------\n",
      "Syn (day.n.01) and (travel.v.01) with similarity None\n",
      "----------------------------------------\n",
      "Syn (day.n.01) and (school.n.01) with similarity 0.3076923076923077\n",
      "----------------------------------------\n",
      "Syn (day.n.01) and (day.n.01) with similarity 1.0\n",
      "----------------------------------------\n",
      "Syn (day.n.01) and (talk.n.01) with similarity 0.3333333333333333\n",
      "----------------------------------------\n",
      "Syn (day.n.01) and (teacher.n.01) with similarity 0.15384615384615385\n",
      "----------------------------------------\n",
      "Syn (talk.n.01) and (iodine.n.01) with similarity 0.3333333333333333\n",
      "----------------------------------------\n",
      "Syn (talk.n.01) and (travel.v.01) with similarity None\n",
      "----------------------------------------\n",
      "Syn (talk.n.01) and (school.n.01) with similarity 0.26666666666666666\n",
      "----------------------------------------\n",
      "Syn (talk.n.01) and (day.n.01) with similarity 0.3333333333333333\n",
      "----------------------------------------\n",
      "Syn (talk.n.01) and (talk.n.01) with similarity 1.0\n",
      "----------------------------------------\n",
      "Syn (talk.n.01) and (teacher.n.01) with similarity 0.13333333333333333\n",
      "----------------------------------------\n",
      "Syn (teacher.n.01) and (iodine.n.01) with similarity 0.2857142857142857\n",
      "----------------------------------------\n",
      "Syn (teacher.n.01) and (travel.v.01) with similarity None\n",
      "----------------------------------------\n",
      "Syn (teacher.n.01) and (school.n.01) with similarity 0.125\n",
      "----------------------------------------\n",
      "Syn (teacher.n.01) and (day.n.01) with similarity 0.15384615384615385\n",
      "----------------------------------------\n",
      "Syn (teacher.n.01) and (talk.n.01) with similarity 0.13333333333333333\n",
      "----------------------------------------\n",
      "Syn (teacher.n.01) and (teacher.n.01) with similarity 1.0\n",
      "----------------------------------------\n"
     ]
    }
   ],
   "source": [
    "text = 'I went to the school that day to talk to the teacher'\n",
    "\n",
    "for word1 in word_tokenize(text) : \n",
    "    for word2 in word_tokenize(text) :\n",
    "        if len(wordnet.synsets(word1))>0 and len(wordnet.synsets(word2))>0  : \n",
    "            w1 = wordnet.synset(wordnet.synsets(word1)[0].name())\n",
    "            w2 = wordnet.synset(wordnet.synsets(word2)[0].name())\n",
    "            print(f'Syn ({wordnet.synsets(word1)[0].name()}) and ({wordnet.synsets(word2)[0].name()}) with similarity {w1.wup_similarity(w2)}')\n",
    "            print('----------------------------------------')"
   ]
  }
 ],
 "metadata": {
  "kernelspec": {
   "display_name": "Python 3",
   "language": "python",
   "name": "python3"
  },
  "language_info": {
   "codemirror_mode": {
    "name": "ipython",
    "version": 3
   },
   "file_extension": ".py",
   "mimetype": "text/x-python",
   "name": "python",
   "nbconvert_exporter": "python",
   "pygments_lexer": "ipython3",
   "version": "3.8.18"
  }
 },
 "nbformat": 4,
 "nbformat_minor": 4
}
