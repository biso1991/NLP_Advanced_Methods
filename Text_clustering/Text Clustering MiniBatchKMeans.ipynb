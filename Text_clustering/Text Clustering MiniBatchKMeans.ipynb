{
 "cells": [
  {
   "cell_type": "markdown",
   "metadata": {},
   "source": [
    "# text clustering on a dataset of news articles using the MiniBatchKMeans algorithm"
   ]
  },
  {
   "cell_type": "code",
   "execution_count": 2,
   "metadata": {},
   "outputs": [],
   "source": [
    "import pandas as pd\n",
    "import numpy as np\n",
    "from sklearn.cluster import MiniBatchKMeans\n",
    "from sklearn.feature_extraction.text import TfidfVectorizer\n",
    "from sklearn.decomposition import PCA\n",
    "import matplotlib.pyplot as plt\n",
    "from sklearn.datasets import load_files"
   ]
  },
  {
   "cell_type": "code",
   "execution_count": 3,
   "metadata": {},
   "outputs": [
    {
     "data": {
      "text/html": [
       "<div>\n",
       "<style scoped>\n",
       "    .dataframe tbody tr th:only-of-type {\n",
       "        vertical-align: middle;\n",
       "    }\n",
       "\n",
       "    .dataframe tbody tr th {\n",
       "        vertical-align: top;\n",
       "    }\n",
       "\n",
       "    .dataframe thead th {\n",
       "        text-align: right;\n",
       "    }\n",
       "</style>\n",
       "<table border=\"1\" class=\"dataframe\">\n",
       "  <thead>\n",
       "    <tr style=\"text-align: right;\">\n",
       "      <th></th>\n",
       "      <th>text</th>\n",
       "      <th>label</th>\n",
       "    </tr>\n",
       "  </thead>\n",
       "  <tbody>\n",
       "    <tr>\n",
       "      <th>0</th>\n",
       "      <td>News Corp eyes video games market\\n\\nNews Corp...</td>\n",
       "      <td>0</td>\n",
       "    </tr>\n",
       "    <tr>\n",
       "      <th>1</th>\n",
       "      <td>Wasps 31-37 Leicester\\n\\nLeicester withstood a...</td>\n",
       "      <td>3</td>\n",
       "    </tr>\n",
       "    <tr>\n",
       "      <th>2</th>\n",
       "      <td>Looks and music to drive mobiles\\n\\nMobile pho...</td>\n",
       "      <td>4</td>\n",
       "    </tr>\n",
       "    <tr>\n",
       "      <th>3</th>\n",
       "      <td>'Errors' doomed first Dome sale\\n\\nThe initial...</td>\n",
       "      <td>2</td>\n",
       "    </tr>\n",
       "    <tr>\n",
       "      <th>4</th>\n",
       "      <td>Sculthorpe wants Lions captaincy\\n\\nPaul Scult...</td>\n",
       "      <td>3</td>\n",
       "    </tr>\n",
       "  </tbody>\n",
       "</table>\n",
       "</div>"
      ],
      "text/plain": [
       "                                                text  label\n",
       "0  News Corp eyes video games market\\n\\nNews Corp...      0\n",
       "1  Wasps 31-37 Leicester\\n\\nLeicester withstood a...      3\n",
       "2  Looks and music to drive mobiles\\n\\nMobile pho...      4\n",
       "3  'Errors' doomed first Dome sale\\n\\nThe initial...      2\n",
       "4  Sculthorpe wants Lions captaincy\\n\\nPaul Scult...      3"
      ]
     },
     "execution_count": 3,
     "metadata": {},
     "output_type": "execute_result"
    }
   ],
   "source": [
    "DATA_DIR = \"BBC\\\\\"\n",
    "data = load_files(DATA_DIR, encoding=\"utf-8\", decode_error=\"replace\", random_state=1000)\n",
    "df = pd.DataFrame(list(zip(data['data'], data['target'])), columns=['text', 'label'])\n"
   ]
  },
  {
   "cell_type": "code",
   "execution_count": 4,
   "metadata": {},
   "outputs": [
    {
     "data": {
      "text/html": [
       "<div>\n",
       "<style scoped>\n",
       "    .dataframe tbody tr th:only-of-type {\n",
       "        vertical-align: middle;\n",
       "    }\n",
       "\n",
       "    .dataframe tbody tr th {\n",
       "        vertical-align: top;\n",
       "    }\n",
       "\n",
       "    .dataframe thead th {\n",
       "        text-align: right;\n",
       "    }\n",
       "</style>\n",
       "<table border=\"1\" class=\"dataframe\">\n",
       "  <thead>\n",
       "    <tr style=\"text-align: right;\">\n",
       "      <th></th>\n",
       "      <th>text</th>\n",
       "      <th>label</th>\n",
       "    </tr>\n",
       "  </thead>\n",
       "  <tbody>\n",
       "    <tr>\n",
       "      <th>0</th>\n",
       "      <td>News Corp eyes video games market\\n\\nNews Corp...</td>\n",
       "      <td>0</td>\n",
       "    </tr>\n",
       "    <tr>\n",
       "      <th>1</th>\n",
       "      <td>Wasps 31-37 Leicester\\n\\nLeicester withstood a...</td>\n",
       "      <td>3</td>\n",
       "    </tr>\n",
       "    <tr>\n",
       "      <th>2</th>\n",
       "      <td>Looks and music to drive mobiles\\n\\nMobile pho...</td>\n",
       "      <td>4</td>\n",
       "    </tr>\n",
       "    <tr>\n",
       "      <th>3</th>\n",
       "      <td>'Errors' doomed first Dome sale\\n\\nThe initial...</td>\n",
       "      <td>2</td>\n",
       "    </tr>\n",
       "    <tr>\n",
       "      <th>4</th>\n",
       "      <td>Sculthorpe wants Lions captaincy\\n\\nPaul Scult...</td>\n",
       "      <td>3</td>\n",
       "    </tr>\n",
       "    <tr>\n",
       "      <th>5</th>\n",
       "      <td>Mobile gaming takes off in India\\n\\nGaming on ...</td>\n",
       "      <td>4</td>\n",
       "    </tr>\n",
       "    <tr>\n",
       "      <th>6</th>\n",
       "      <td>Watchdog probes e-mail deletions\\n\\nThe inform...</td>\n",
       "      <td>2</td>\n",
       "    </tr>\n",
       "    <tr>\n",
       "      <th>7</th>\n",
       "      <td>Edwards tips Idowu for Euro gold\\n\\nWorld outd...</td>\n",
       "      <td>3</td>\n",
       "    </tr>\n",
       "    <tr>\n",
       "      <th>8</th>\n",
       "      <td>Parmar ruled out of Davis Cup tie\\n\\nA knee in...</td>\n",
       "      <td>3</td>\n",
       "    </tr>\n",
       "    <tr>\n",
       "      <th>9</th>\n",
       "      <td>World tour for top video gamers\\n\\nTwo UK game...</td>\n",
       "      <td>4</td>\n",
       "    </tr>\n",
       "    <tr>\n",
       "      <th>10</th>\n",
       "      <td>Strike threat over pension plans\\n\\nMillions o...</td>\n",
       "      <td>2</td>\n",
       "    </tr>\n",
       "    <tr>\n",
       "      <th>11</th>\n",
       "      <td>Gadget growth fuels eco concerns\\n\\nTechnology...</td>\n",
       "      <td>4</td>\n",
       "    </tr>\n",
       "    <tr>\n",
       "      <th>12</th>\n",
       "      <td>Pompeii gets digital make-over\\n\\nThe old-fash...</td>\n",
       "      <td>4</td>\n",
       "    </tr>\n",
       "    <tr>\n",
       "      <th>13</th>\n",
       "      <td>Ex-Boeing director gets jail term\\n\\nAn ex-chi...</td>\n",
       "      <td>0</td>\n",
       "    </tr>\n",
       "    <tr>\n",
       "      <th>14</th>\n",
       "      <td>Stars pay tribute to actor Davis\\n\\nHollywood ...</td>\n",
       "      <td>1</td>\n",
       "    </tr>\n",
       "    <tr>\n",
       "      <th>15</th>\n",
       "      <td>Taylor poised for Scotland return\\n\\nSimon Tay...</td>\n",
       "      <td>3</td>\n",
       "    </tr>\n",
       "    <tr>\n",
       "      <th>16</th>\n",
       "      <td>File-swappers ready new network\\n\\nLegal attac...</td>\n",
       "      <td>4</td>\n",
       "    </tr>\n",
       "    <tr>\n",
       "      <th>17</th>\n",
       "      <td>Labour MP praises Tory campaign\\n\\nThe Conserv...</td>\n",
       "      <td>2</td>\n",
       "    </tr>\n",
       "    <tr>\n",
       "      <th>18</th>\n",
       "      <td>Qantas considers offshore option\\n\\nAustralian...</td>\n",
       "      <td>0</td>\n",
       "    </tr>\n",
       "    <tr>\n",
       "      <th>19</th>\n",
       "      <td>UK pledges £1bn to vaccine effort\\n\\nUK Chance...</td>\n",
       "      <td>2</td>\n",
       "    </tr>\n",
       "    <tr>\n",
       "      <th>20</th>\n",
       "      <td>Vickery upbeat about arm injury\\n\\nEngland pro...</td>\n",
       "      <td>3</td>\n",
       "    </tr>\n",
       "    <tr>\n",
       "      <th>21</th>\n",
       "      <td>Mobile networks seek turbo boost\\n\\nThird-gene...</td>\n",
       "      <td>4</td>\n",
       "    </tr>\n",
       "    <tr>\n",
       "      <th>22</th>\n",
       "      <td>Isinbayeva heads for Birmingham\\n\\nOlympic pol...</td>\n",
       "      <td>3</td>\n",
       "    </tr>\n",
       "    <tr>\n",
       "      <th>23</th>\n",
       "      <td>Uefa approves fake grass\\n\\nUefa says it will ...</td>\n",
       "      <td>3</td>\n",
       "    </tr>\n",
       "    <tr>\n",
       "      <th>24</th>\n",
       "      <td>Johnson too strong for GB runners\\n\\nBritain's...</td>\n",
       "      <td>3</td>\n",
       "    </tr>\n",
       "    <tr>\n",
       "      <th>25</th>\n",
       "      <td>Boateng to step down at election\\n\\nPaul Boate...</td>\n",
       "      <td>2</td>\n",
       "    </tr>\n",
       "    <tr>\n",
       "      <th>26</th>\n",
       "      <td>UK gets official virus alert site\\n\\nA rapid a...</td>\n",
       "      <td>4</td>\n",
       "    </tr>\n",
       "    <tr>\n",
       "      <th>27</th>\n",
       "      <td>Italy to get economic action plan\\n\\nItalian P...</td>\n",
       "      <td>0</td>\n",
       "    </tr>\n",
       "    <tr>\n",
       "      <th>28</th>\n",
       "      <td>Rapper Snoop Dogg sued for 'rape'\\n\\nUS rapper...</td>\n",
       "      <td>1</td>\n",
       "    </tr>\n",
       "    <tr>\n",
       "      <th>29</th>\n",
       "      <td>US peer-to-peer pirates convicted\\n\\nThe first...</td>\n",
       "      <td>4</td>\n",
       "    </tr>\n",
       "  </tbody>\n",
       "</table>\n",
       "</div>"
      ],
      "text/plain": [
       "                                                 text  label\n",
       "0   News Corp eyes video games market\\n\\nNews Corp...      0\n",
       "1   Wasps 31-37 Leicester\\n\\nLeicester withstood a...      3\n",
       "2   Looks and music to drive mobiles\\n\\nMobile pho...      4\n",
       "3   'Errors' doomed first Dome sale\\n\\nThe initial...      2\n",
       "4   Sculthorpe wants Lions captaincy\\n\\nPaul Scult...      3\n",
       "5   Mobile gaming takes off in India\\n\\nGaming on ...      4\n",
       "6   Watchdog probes e-mail deletions\\n\\nThe inform...      2\n",
       "7   Edwards tips Idowu for Euro gold\\n\\nWorld outd...      3\n",
       "8   Parmar ruled out of Davis Cup tie\\n\\nA knee in...      3\n",
       "9   World tour for top video gamers\\n\\nTwo UK game...      4\n",
       "10  Strike threat over pension plans\\n\\nMillions o...      2\n",
       "11  Gadget growth fuels eco concerns\\n\\nTechnology...      4\n",
       "12  Pompeii gets digital make-over\\n\\nThe old-fash...      4\n",
       "13  Ex-Boeing director gets jail term\\n\\nAn ex-chi...      0\n",
       "14  Stars pay tribute to actor Davis\\n\\nHollywood ...      1\n",
       "15  Taylor poised for Scotland return\\n\\nSimon Tay...      3\n",
       "16  File-swappers ready new network\\n\\nLegal attac...      4\n",
       "17  Labour MP praises Tory campaign\\n\\nThe Conserv...      2\n",
       "18  Qantas considers offshore option\\n\\nAustralian...      0\n",
       "19  UK pledges £1bn to vaccine effort\\n\\nUK Chance...      2\n",
       "20  Vickery upbeat about arm injury\\n\\nEngland pro...      3\n",
       "21  Mobile networks seek turbo boost\\n\\nThird-gene...      4\n",
       "22  Isinbayeva heads for Birmingham\\n\\nOlympic pol...      3\n",
       "23  Uefa approves fake grass\\n\\nUefa says it will ...      3\n",
       "24  Johnson too strong for GB runners\\n\\nBritain's...      3\n",
       "25  Boateng to step down at election\\n\\nPaul Boate...      2\n",
       "26  UK gets official virus alert site\\n\\nA rapid a...      4\n",
       "27  Italy to get economic action plan\\n\\nItalian P...      0\n",
       "28  Rapper Snoop Dogg sued for 'rape'\\n\\nUS rapper...      1\n",
       "29  US peer-to-peer pirates convicted\\n\\nThe first...      4"
      ]
     },
     "execution_count": 4,
     "metadata": {},
     "output_type": "execute_result"
    }
   ],
   "source": [
    "df.head(30)"
   ]
  },
  {
   "cell_type": "code",
   "execution_count": 8,
   "metadata": {},
   "outputs": [
    {
     "data": {
      "text/html": [
       "<div>\n",
       "<style scoped>\n",
       "    .dataframe tbody tr th:only-of-type {\n",
       "        vertical-align: middle;\n",
       "    }\n",
       "\n",
       "    .dataframe tbody tr th {\n",
       "        vertical-align: top;\n",
       "    }\n",
       "\n",
       "    .dataframe thead th {\n",
       "        text-align: right;\n",
       "    }\n",
       "</style>\n",
       "<table border=\"1\" class=\"dataframe\">\n",
       "  <thead>\n",
       "    <tr style=\"text-align: right;\">\n",
       "      <th></th>\n",
       "      <th>text</th>\n",
       "      <th>label</th>\n",
       "    </tr>\n",
       "  </thead>\n",
       "  <tbody>\n",
       "    <tr>\n",
       "      <th>3</th>\n",
       "      <td>'Errors' doomed first Dome sale\\n\\nThe initial...</td>\n",
       "      <td>2</td>\n",
       "    </tr>\n",
       "    <tr>\n",
       "      <th>6</th>\n",
       "      <td>Watchdog probes e-mail deletions\\n\\nThe inform...</td>\n",
       "      <td>2</td>\n",
       "    </tr>\n",
       "    <tr>\n",
       "      <th>10</th>\n",
       "      <td>Strike threat over pension plans\\n\\nMillions o...</td>\n",
       "      <td>2</td>\n",
       "    </tr>\n",
       "    <tr>\n",
       "      <th>17</th>\n",
       "      <td>Labour MP praises Tory campaign\\n\\nThe Conserv...</td>\n",
       "      <td>2</td>\n",
       "    </tr>\n",
       "    <tr>\n",
       "      <th>19</th>\n",
       "      <td>UK pledges £1bn to vaccine effort\\n\\nUK Chance...</td>\n",
       "      <td>2</td>\n",
       "    </tr>\n",
       "    <tr>\n",
       "      <th>25</th>\n",
       "      <td>Boateng to step down at election\\n\\nPaul Boate...</td>\n",
       "      <td>2</td>\n",
       "    </tr>\n",
       "    <tr>\n",
       "      <th>33</th>\n",
       "      <td>Muslims discuss election concerns\\n\\nIssues th...</td>\n",
       "      <td>2</td>\n",
       "    </tr>\n",
       "    <tr>\n",
       "      <th>34</th>\n",
       "      <td>Nat Insurance to rise, say Tories\\n\\nNational ...</td>\n",
       "      <td>2</td>\n",
       "    </tr>\n",
       "    <tr>\n",
       "      <th>36</th>\n",
       "      <td>Parties' plans for council tax\\n\\nAnger at cou...</td>\n",
       "      <td>2</td>\n",
       "    </tr>\n",
       "    <tr>\n",
       "      <th>37</th>\n",
       "      <td>Hospital suspends 'no Welsh' plan\\n\\nAn Englis...</td>\n",
       "      <td>2</td>\n",
       "    </tr>\n",
       "    <tr>\n",
       "      <th>41</th>\n",
       "      <td>Kilroy names election seat target\\n\\nEx-chat s...</td>\n",
       "      <td>2</td>\n",
       "    </tr>\n",
       "    <tr>\n",
       "      <th>42</th>\n",
       "      <td>UKIP could sue Veritas defectors\\n\\nThe UK Ind...</td>\n",
       "      <td>2</td>\n",
       "    </tr>\n",
       "    <tr>\n",
       "      <th>53</th>\n",
       "      <td>England children's tsar appointed\\n\\nThe first...</td>\n",
       "      <td>2</td>\n",
       "    </tr>\n",
       "    <tr>\n",
       "      <th>60</th>\n",
       "      <td>Civil servants in strike ballot\\n\\nThe UK's bi...</td>\n",
       "      <td>2</td>\n",
       "    </tr>\n",
       "    <tr>\n",
       "      <th>73</th>\n",
       "      <td>Anglers 'could face prosecution'\\n\\nAnglers an...</td>\n",
       "      <td>2</td>\n",
       "    </tr>\n",
       "    <tr>\n",
       "      <th>80</th>\n",
       "      <td>Howard taunts Blair over splits\\n\\nTony Blair'...</td>\n",
       "      <td>2</td>\n",
       "    </tr>\n",
       "    <tr>\n",
       "      <th>82</th>\n",
       "      <td>Blair says mayor should apologise\\n\\nTony Blai...</td>\n",
       "      <td>2</td>\n",
       "    </tr>\n",
       "    <tr>\n",
       "      <th>86</th>\n",
       "      <td>Security papers 'found in street'\\n\\nAn inquir...</td>\n",
       "      <td>2</td>\n",
       "    </tr>\n",
       "    <tr>\n",
       "      <th>88</th>\n",
       "      <td>Labour plans maternity pay rise\\n\\nMaternity p...</td>\n",
       "      <td>2</td>\n",
       "    </tr>\n",
       "    <tr>\n",
       "      <th>95</th>\n",
       "      <td>Wales 'must learn health lessons'\\n\\nThe new h...</td>\n",
       "      <td>2</td>\n",
       "    </tr>\n",
       "    <tr>\n",
       "      <th>111</th>\n",
       "      <td>MP's shock at long lost daughter\\n\\nLabour MP ...</td>\n",
       "      <td>2</td>\n",
       "    </tr>\n",
       "    <tr>\n",
       "      <th>115</th>\n",
       "      <td>Baron Kinnock makes Lords debut\\n\\nFormer Labo...</td>\n",
       "      <td>2</td>\n",
       "    </tr>\n",
       "    <tr>\n",
       "      <th>116</th>\n",
       "      <td>Fox attacks Blair's Tory 'lies'\\n\\nTony Blair ...</td>\n",
       "      <td>2</td>\n",
       "    </tr>\n",
       "    <tr>\n",
       "      <th>120</th>\n",
       "      <td>Mallon wades into NE vote battle\\n\\nMiddlesbro...</td>\n",
       "      <td>2</td>\n",
       "    </tr>\n",
       "    <tr>\n",
       "      <th>131</th>\n",
       "      <td>'Super union' merger plan touted\\n\\nTwo of Bri...</td>\n",
       "      <td>2</td>\n",
       "    </tr>\n",
       "    <tr>\n",
       "      <th>132</th>\n",
       "      <td>Fox attacks Blair's Tory 'lies'\\n\\nTony Blair ...</td>\n",
       "      <td>2</td>\n",
       "    </tr>\n",
       "    <tr>\n",
       "      <th>133</th>\n",
       "      <td>Report attacks defence spending\\n\\nThe Ministr...</td>\n",
       "      <td>2</td>\n",
       "    </tr>\n",
       "    <tr>\n",
       "      <th>152</th>\n",
       "      <td>Galloway plea for hostage release\\n\\nEx-Labour...</td>\n",
       "      <td>2</td>\n",
       "    </tr>\n",
       "    <tr>\n",
       "      <th>156</th>\n",
       "      <td>Hague 'given up' his PM ambition\\n\\nFormer Con...</td>\n",
       "      <td>2</td>\n",
       "    </tr>\n",
       "    <tr>\n",
       "      <th>157</th>\n",
       "      <td>New UKIP defection to 'Veritas'\\n\\nThe UK Inde...</td>\n",
       "      <td>2</td>\n",
       "    </tr>\n",
       "  </tbody>\n",
       "</table>\n",
       "</div>"
      ],
      "text/plain": [
       "                                                  text  label\n",
       "3    'Errors' doomed first Dome sale\\n\\nThe initial...      2\n",
       "6    Watchdog probes e-mail deletions\\n\\nThe inform...      2\n",
       "10   Strike threat over pension plans\\n\\nMillions o...      2\n",
       "17   Labour MP praises Tory campaign\\n\\nThe Conserv...      2\n",
       "19   UK pledges £1bn to vaccine effort\\n\\nUK Chance...      2\n",
       "25   Boateng to step down at election\\n\\nPaul Boate...      2\n",
       "33   Muslims discuss election concerns\\n\\nIssues th...      2\n",
       "34   Nat Insurance to rise, say Tories\\n\\nNational ...      2\n",
       "36   Parties' plans for council tax\\n\\nAnger at cou...      2\n",
       "37   Hospital suspends 'no Welsh' plan\\n\\nAn Englis...      2\n",
       "41   Kilroy names election seat target\\n\\nEx-chat s...      2\n",
       "42   UKIP could sue Veritas defectors\\n\\nThe UK Ind...      2\n",
       "53   England children's tsar appointed\\n\\nThe first...      2\n",
       "60   Civil servants in strike ballot\\n\\nThe UK's bi...      2\n",
       "73   Anglers 'could face prosecution'\\n\\nAnglers an...      2\n",
       "80   Howard taunts Blair over splits\\n\\nTony Blair'...      2\n",
       "82   Blair says mayor should apologise\\n\\nTony Blai...      2\n",
       "86   Security papers 'found in street'\\n\\nAn inquir...      2\n",
       "88   Labour plans maternity pay rise\\n\\nMaternity p...      2\n",
       "95   Wales 'must learn health lessons'\\n\\nThe new h...      2\n",
       "111  MP's shock at long lost daughter\\n\\nLabour MP ...      2\n",
       "115  Baron Kinnock makes Lords debut\\n\\nFormer Labo...      2\n",
       "116  Fox attacks Blair's Tory 'lies'\\n\\nTony Blair ...      2\n",
       "120  Mallon wades into NE vote battle\\n\\nMiddlesbro...      2\n",
       "131  'Super union' merger plan touted\\n\\nTwo of Bri...      2\n",
       "132  Fox attacks Blair's Tory 'lies'\\n\\nTony Blair ...      2\n",
       "133  Report attacks defence spending\\n\\nThe Ministr...      2\n",
       "152  Galloway plea for hostage release\\n\\nEx-Labour...      2\n",
       "156  Hague 'given up' his PM ambition\\n\\nFormer Con...      2\n",
       "157  New UKIP defection to 'Veritas'\\n\\nThe UK Inde...      2"
      ]
     },
     "execution_count": 8,
     "metadata": {},
     "output_type": "execute_result"
    }
   ],
   "source": [
    "df[df['label']==2].head(30)"
   ]
  },
  {
   "cell_type": "code",
   "execution_count": 9,
   "metadata": {},
   "outputs": [
    {
     "data": {
      "text/plain": [
       "3    511\n",
       "0    510\n",
       "2    417\n",
       "4    401\n",
       "1    386\n",
       "Name: label, dtype: int64"
      ]
     },
     "execution_count": 9,
     "metadata": {},
     "output_type": "execute_result"
    }
   ],
   "source": [
    "df['label'].value_counts()"
   ]
  },
  {
   "cell_type": "code",
   "execution_count": 10,
   "metadata": {},
   "outputs": [],
   "source": [
    "vec = TfidfVectorizer(stop_words=\"english\")\n",
    "vec.fit(df.text.values)\n",
    "features = vec.transform(df.text.values)"
   ]
  },
  {
   "cell_type": "code",
   "execution_count": 12,
   "metadata": {},
   "outputs": [
    {
     "data": {
      "text/plain": [
       "array([[0.        , 0.        , 0.        , ..., 0.        , 0.        ,\n",
       "        0.        ],\n",
       "       [0.        , 0.        , 0.        , ..., 0.        , 0.        ,\n",
       "        0.        ],\n",
       "       [0.        , 0.        , 0.        , ..., 0.        , 0.        ,\n",
       "        0.        ],\n",
       "       ...,\n",
       "       [0.        , 0.02280016, 0.        , ..., 0.        , 0.        ,\n",
       "        0.        ],\n",
       "       [0.        , 0.        , 0.        , ..., 0.        , 0.        ,\n",
       "        0.        ],\n",
       "       [0.        , 0.02459015, 0.        , ..., 0.        , 0.        ,\n",
       "        0.        ]])"
      ]
     },
     "execution_count": 12,
     "metadata": {},
     "output_type": "execute_result"
    }
   ],
   "source": [
    "features.toarray()"
   ]
  },
  {
   "cell_type": "code",
   "execution_count": 13,
   "metadata": {},
   "outputs": [
    {
     "data": {
      "text/plain": [
       "(2225, 29126)"
      ]
     },
     "execution_count": 13,
     "metadata": {},
     "output_type": "execute_result"
    }
   ],
   "source": [
    "len(features.toarray()) , len(features.toarray()[0]) "
   ]
  },
  {
   "cell_type": "code",
   "execution_count": 14,
   "metadata": {},
   "outputs": [
    {
     "data": {
      "text/plain": [
       "MiniBatchKMeans(batch_size=100, compute_labels=True, init='k-means++',\n",
       "                init_size=None, max_iter=100, max_no_improvement=10,\n",
       "                n_clusters=5, n_init=3, random_state=1000,\n",
       "                reassignment_ratio=0.01, tol=0.0, verbose=0)"
      ]
     },
     "execution_count": 14,
     "metadata": {},
     "output_type": "execute_result"
    }
   ],
   "source": [
    "cls = MiniBatchKMeans(n_clusters=5, random_state=1000)\n",
    "cls.fit(features)"
   ]
  },
  {
   "cell_type": "code",
   "execution_count": 15,
   "metadata": {},
   "outputs": [
    {
     "data": {
      "text/plain": [
       "array([1, 3, 1, ..., 1, 4, 3])"
      ]
     },
     "execution_count": 15,
     "metadata": {},
     "output_type": "execute_result"
    }
   ],
   "source": [
    "# predict cluster labels for new dataset\n",
    "cls.predict(features)"
   ]
  },
  {
   "cell_type": "code",
   "execution_count": 16,
   "metadata": {},
   "outputs": [
    {
     "data": {
      "text/plain": [
       "array([1, 3, 1, 4, 3, 1, 4, 3, 3, 4, 4, 1, 1, 4, 4, 3, 1, 0, 4, 4])"
      ]
     },
     "execution_count": 16,
     "metadata": {},
     "output_type": "execute_result"
    }
   ],
   "source": [
    "# to get cluster labels for the dataset used while\n",
    "# training the model (used for models that does not\n",
    "# support prediction on new dataset).\n",
    "cls.labels_[:20]"
   ]
  },
  {
   "cell_type": "code",
   "execution_count": 17,
   "metadata": {},
   "outputs": [
    {
     "data": {
      "text/plain": [
       "array([[0.00000000e+00, 7.62505610e-03, 0.00000000e+00, ...,\n",
       "        0.00000000e+00, 0.00000000e+00, 0.00000000e+00],\n",
       "       [9.32071186e-05, 8.83317417e-03, 0.00000000e+00, ...,\n",
       "        0.00000000e+00, 0.00000000e+00, 0.00000000e+00],\n",
       "       [0.00000000e+00, 8.18806531e-03, 0.00000000e+00, ...,\n",
       "        0.00000000e+00, 0.00000000e+00, 0.00000000e+00],\n",
       "       [2.04483656e-04, 1.73561225e-03, 0.00000000e+00, ...,\n",
       "        0.00000000e+00, 6.43619973e-04, 0.00000000e+00],\n",
       "       [6.32353754e-05, 1.16620119e-02, 5.56786033e-05, ...,\n",
       "        3.41649255e-05, 0.00000000e+00, 2.46948462e-04]])"
      ]
     },
     "execution_count": 17,
     "metadata": {},
     "output_type": "execute_result"
    }
   ],
   "source": [
    "cls.cluster_centers_"
   ]
  },
  {
   "cell_type": "code",
   "execution_count": 18,
   "metadata": {},
   "outputs": [
    {
     "data": {
      "text/plain": [
       "(5, 29126)"
      ]
     },
     "execution_count": 18,
     "metadata": {},
     "output_type": "execute_result"
    }
   ],
   "source": [
    "len(cls.cluster_centers_) , len(cls.cluster_centers_[0])"
   ]
  },
  {
   "cell_type": "code",
   "execution_count": 19,
   "metadata": {},
   "outputs": [
    {
     "data": {
      "text/plain": [
       "array([[-0.04277219,  0.06662464],\n",
       "       [-0.07835577, -0.13051088],\n",
       "       [-0.07326799,  0.26373002],\n",
       "       ...,\n",
       "       [-0.05109815,  0.19521583],\n",
       "       [-0.07536488, -0.04117384],\n",
       "       [-0.04190159, -0.06617138]])"
      ]
     },
     "execution_count": 19,
     "metadata": {},
     "output_type": "execute_result"
    }
   ],
   "source": [
    "# reduce the features to 2D\n",
    "pca = PCA(n_components=2, random_state=100)\n",
    "reduced_features = pca.fit_transform(features.toarray())\n",
    "reduced_features"
   ]
  },
  {
   "cell_type": "code",
   "execution_count": 20,
   "metadata": {},
   "outputs": [
    {
     "data": {
      "text/plain": [
       "(2225, 2)"
      ]
     },
     "execution_count": 20,
     "metadata": {},
     "output_type": "execute_result"
    }
   ],
   "source": [
    "len(reduced_features) , len(reduced_features[0]) "
   ]
  },
  {
   "cell_type": "code",
   "execution_count": 21,
   "metadata": {},
   "outputs": [
    {
     "data": {
      "text/plain": [
       "array([[ 0.2770393 , -0.05937206],\n",
       "       [-0.03279032,  0.10046806],\n",
       "       [ 0.00739726,  0.0518491 ],\n",
       "       [-0.07144897, -0.10957749],\n",
       "       [-0.00929295,  0.01998776]])"
      ]
     },
     "execution_count": 21,
     "metadata": {},
     "output_type": "execute_result"
    }
   ],
   "source": [
    "# reduce the cluster centers to 2D\n",
    "reduced_cluster_centers = pca.transform(cls.cluster_centers_)\n",
    "reduced_cluster_centers"
   ]
  },
  {
   "cell_type": "code",
   "execution_count": 22,
   "metadata": {},
   "outputs": [
    {
     "data": {
      "text/plain": [
       "<matplotlib.collections.PathCollection at 0x1944af756c8>"
      ]
     },
     "execution_count": 22,
     "metadata": {},
     "output_type": "execute_result"
    },
    {
     "data": {
      "image/png": "[encoded data removed]",
      "text/plain": [
       "<Figure size 432x288 with 1 Axes>"
      ]
     },
     "metadata": {
      "needs_background": "light"
     },
     "output_type": "display_data"
    }
   ],
   "source": [
    "plt.scatter(reduced_features[:,0], reduced_features[:,1], c=cls.predict(features))\n",
    "plt.scatter(reduced_cluster_centers[:, 0], reduced_cluster_centers[:,1], marker='x', s=150, c='b')\n"
   ]
  },
  {
   "cell_type": "code",
   "execution_count": 23,
   "metadata": {},
   "outputs": [
    {
     "data": {
      "text/plain": [
       "0.5519826236931732"
      ]
     },
     "execution_count": 23,
     "metadata": {},
     "output_type": "execute_result"
    }
   ],
   "source": [
    "from sklearn.metrics import homogeneity_score\n",
    "homogeneity_score(df.label, cls.predict(features))\n"
   ]
  },
  {
   "cell_type": "code",
   "execution_count": 24,
   "metadata": {},
   "outputs": [
    {
     "data": {
      "text/plain": [
       "array([4])"
      ]
     },
     "execution_count": 24,
     "metadata": {},
     "output_type": "execute_result"
    }
   ],
   "source": [
    "cls.predict(vec.transform(['president']))"
   ]
  },
  {
   "cell_type": "code",
   "execution_count": 25,
   "metadata": {},
   "outputs": [
    {
     "data": {
      "text/plain": [
       "array([1])"
      ]
     },
     "execution_count": 25,
     "metadata": {},
     "output_type": "execute_result"
    }
   ],
   "source": [
    "cls.predict(vec.transform(['music']))"
   ]
  },
  {
   "cell_type": "code",
   "execution_count": 26,
   "metadata": {},
   "outputs": [
    {
     "data": {
      "text/plain": [
       "array([3])"
      ]
     },
     "execution_count": 26,
     "metadata": {},
     "output_type": "execute_result"
    }
   ],
   "source": [
    "cls.predict(vec.transform(['game']))"
   ]
  },
  {
   "cell_type": "code",
   "execution_count": 27,
   "metadata": {},
   "outputs": [
    {
     "data": {
      "text/plain": [
       "array([4])"
      ]
     },
     "execution_count": 27,
     "metadata": {},
     "output_type": "execute_result"
    }
   ],
   "source": [
    "cls.predict(vec.transform(['festival']))"
   ]
  },
  {
   "cell_type": "code",
   "execution_count": 28,
   "metadata": {},
   "outputs": [
    {
     "data": {
      "text/plain": [
       "array([4])"
      ]
     },
     "execution_count": 28,
     "metadata": {},
     "output_type": "execute_result"
    }
   ],
   "source": [
    "cls.predict(vec.transform(['talks']))"
   ]
  }
 ],
 "metadata": {
  "kernelspec": {
   "display_name": "Python 3",
   "language": "python",
   "name": "python3"
  },
  "language_info": {
   "codemirror_mode": {
    "name": "ipython",
    "version": 3
   },
   "file_extension": ".py",
   "mimetype": "text/x-python",
   "name": "python",
   "nbconvert_exporter": "python",
   "pygments_lexer": "ipython3",
   "version": "3.7.6"
  }
 },
 "nbformat": 4,
 "nbformat_minor": 4
}
